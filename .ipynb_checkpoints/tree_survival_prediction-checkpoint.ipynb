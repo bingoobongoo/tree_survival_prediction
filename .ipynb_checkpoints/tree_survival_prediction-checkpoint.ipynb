{
 "cells": [
  {
   "cell_type": "code",
   "execution_count": 2,
   "id": "1ea449c8",
   "metadata": {},
   "outputs": [],
   "source": [
    "import numpy as np\n",
    "import pandas as pd\n",
    "import matplotlib.pyplot as plt"
   ]
  },
  {
   "cell_type": "code",
   "execution_count": 3,
   "id": "5c7ef006",
   "metadata": {},
   "outputs": [
    {
     "data": {
      "text/html": [
       "<div>\n",
       "<style scoped>\n",
       "    .dataframe tbody tr th:only-of-type {\n",
       "        vertical-align: middle;\n",
       "    }\n",
       "\n",
       "    .dataframe tbody tr th {\n",
       "        vertical-align: top;\n",
       "    }\n",
       "\n",
       "    .dataframe thead th {\n",
       "        text-align: right;\n",
       "    }\n",
       "</style>\n",
       "<table border=\"1\" class=\"dataframe\">\n",
       "  <thead>\n",
       "    <tr style=\"text-align: right;\">\n",
       "      <th></th>\n",
       "      <th>Plot</th>\n",
       "      <th>Subplot</th>\n",
       "      <th>Species</th>\n",
       "      <th>Light_ISF</th>\n",
       "      <th>Light_Cat</th>\n",
       "      <th>Core</th>\n",
       "      <th>Soil</th>\n",
       "      <th>Adult</th>\n",
       "      <th>Sterile</th>\n",
       "      <th>Conspecific</th>\n",
       "      <th>...</th>\n",
       "      <th>AMF</th>\n",
       "      <th>EMF</th>\n",
       "      <th>Phenolics</th>\n",
       "      <th>Lignin</th>\n",
       "      <th>NSC</th>\n",
       "      <th>Census</th>\n",
       "      <th>Time</th>\n",
       "      <th>Event</th>\n",
       "      <th>Harvest</th>\n",
       "      <th>Alive</th>\n",
       "    </tr>\n",
       "  </thead>\n",
       "  <tbody>\n",
       "    <tr>\n",
       "      <th>0</th>\n",
       "      <td>1</td>\n",
       "      <td>C</td>\n",
       "      <td>Acer saccharum</td>\n",
       "      <td>0.106</td>\n",
       "      <td>Med</td>\n",
       "      <td>2017</td>\n",
       "      <td>Prunus serotina</td>\n",
       "      <td>I</td>\n",
       "      <td>Non-Sterile</td>\n",
       "      <td>Heterospecific</td>\n",
       "      <td>...</td>\n",
       "      <td>22.00</td>\n",
       "      <td>NaN</td>\n",
       "      <td>-0.56</td>\n",
       "      <td>13.86</td>\n",
       "      <td>12.15</td>\n",
       "      <td>4</td>\n",
       "      <td>14.0</td>\n",
       "      <td>1.0</td>\n",
       "      <td>NaN</td>\n",
       "      <td>NaN</td>\n",
       "    </tr>\n",
       "    <tr>\n",
       "      <th>1</th>\n",
       "      <td>1</td>\n",
       "      <td>C</td>\n",
       "      <td>Quercus alba</td>\n",
       "      <td>0.106</td>\n",
       "      <td>Med</td>\n",
       "      <td>2017</td>\n",
       "      <td>Quercus rubra</td>\n",
       "      <td>970</td>\n",
       "      <td>Non-Sterile</td>\n",
       "      <td>Heterospecific</td>\n",
       "      <td>...</td>\n",
       "      <td>15.82</td>\n",
       "      <td>31.07</td>\n",
       "      <td>5.19</td>\n",
       "      <td>20.52</td>\n",
       "      <td>19.29</td>\n",
       "      <td>33</td>\n",
       "      <td>115.5</td>\n",
       "      <td>0.0</td>\n",
       "      <td>NaN</td>\n",
       "      <td>X</td>\n",
       "    </tr>\n",
       "    <tr>\n",
       "      <th>2</th>\n",
       "      <td>1</td>\n",
       "      <td>C</td>\n",
       "      <td>Quercus rubra</td>\n",
       "      <td>0.106</td>\n",
       "      <td>Med</td>\n",
       "      <td>2017</td>\n",
       "      <td>Prunus serotina</td>\n",
       "      <td>J</td>\n",
       "      <td>Non-Sterile</td>\n",
       "      <td>Heterospecific</td>\n",
       "      <td>...</td>\n",
       "      <td>24.45</td>\n",
       "      <td>28.19</td>\n",
       "      <td>3.36</td>\n",
       "      <td>24.74</td>\n",
       "      <td>15.01</td>\n",
       "      <td>18</td>\n",
       "      <td>63.0</td>\n",
       "      <td>1.0</td>\n",
       "      <td>NaN</td>\n",
       "      <td>NaN</td>\n",
       "    </tr>\n",
       "    <tr>\n",
       "      <th>3</th>\n",
       "      <td>7</td>\n",
       "      <td>D</td>\n",
       "      <td>Acer saccharum</td>\n",
       "      <td>0.080</td>\n",
       "      <td>Med</td>\n",
       "      <td>2016</td>\n",
       "      <td>Prunus serotina</td>\n",
       "      <td>J</td>\n",
       "      <td>Non-Sterile</td>\n",
       "      <td>Heterospecific</td>\n",
       "      <td>...</td>\n",
       "      <td>22.23</td>\n",
       "      <td>NaN</td>\n",
       "      <td>-0.71</td>\n",
       "      <td>14.29</td>\n",
       "      <td>12.36</td>\n",
       "      <td>4</td>\n",
       "      <td>14.0</td>\n",
       "      <td>1.0</td>\n",
       "      <td>NaN</td>\n",
       "      <td>NaN</td>\n",
       "    </tr>\n",
       "    <tr>\n",
       "      <th>4</th>\n",
       "      <td>14</td>\n",
       "      <td>A</td>\n",
       "      <td>Acer saccharum</td>\n",
       "      <td>0.060</td>\n",
       "      <td>Low</td>\n",
       "      <td>2017</td>\n",
       "      <td>Prunus serotina</td>\n",
       "      <td>689</td>\n",
       "      <td>Non-Sterile</td>\n",
       "      <td>Heterospecific</td>\n",
       "      <td>...</td>\n",
       "      <td>21.15</td>\n",
       "      <td>NaN</td>\n",
       "      <td>-0.58</td>\n",
       "      <td>10.85</td>\n",
       "      <td>11.20</td>\n",
       "      <td>4</td>\n",
       "      <td>14.0</td>\n",
       "      <td>1.0</td>\n",
       "      <td>NaN</td>\n",
       "      <td>NaN</td>\n",
       "    </tr>\n",
       "  </tbody>\n",
       "</table>\n",
       "<p>5 rows × 23 columns</p>\n",
       "</div>"
      ],
      "text/plain": [
       "   Plot Subplot         Species  Light_ISF Light_Cat  Core             Soil  \\\n",
       "0     1       C  Acer saccharum      0.106       Med  2017  Prunus serotina   \n",
       "1     1       C    Quercus alba      0.106       Med  2017    Quercus rubra   \n",
       "2     1       C   Quercus rubra      0.106       Med  2017  Prunus serotina   \n",
       "3     7       D  Acer saccharum      0.080       Med  2016  Prunus serotina   \n",
       "4    14       A  Acer saccharum      0.060       Low  2017  Prunus serotina   \n",
       "\n",
       "  Adult      Sterile     Conspecific  ...    AMF    EMF Phenolics  Lignin  \\\n",
       "0     I  Non-Sterile  Heterospecific  ...  22.00    NaN     -0.56   13.86   \n",
       "1   970  Non-Sterile  Heterospecific  ...  15.82  31.07      5.19   20.52   \n",
       "2     J  Non-Sterile  Heterospecific  ...  24.45  28.19      3.36   24.74   \n",
       "3     J  Non-Sterile  Heterospecific  ...  22.23    NaN     -0.71   14.29   \n",
       "4   689  Non-Sterile  Heterospecific  ...  21.15    NaN     -0.58   10.85   \n",
       "\n",
       "     NSC  Census   Time  Event  Harvest  Alive  \n",
       "0  12.15       4   14.0    1.0      NaN    NaN  \n",
       "1  19.29      33  115.5    0.0      NaN      X  \n",
       "2  15.01      18   63.0    1.0      NaN    NaN  \n",
       "3  12.36       4   14.0    1.0      NaN    NaN  \n",
       "4  11.20       4   14.0    1.0      NaN    NaN  \n",
       "\n",
       "[5 rows x 23 columns]"
      ]
     },
     "execution_count": 3,
     "metadata": {},
     "output_type": "execute_result"
    }
   ],
   "source": [
    "tree_df = pd.read_csv('data/Tree_Data.csv', index_col='No')\n",
    "tree_df.reset_index(inplace=True, drop=True)\n",
    "tree_df.head()"
   ]
  },
  {
   "cell_type": "markdown",
   "id": "6a99416e",
   "metadata": {},
   "source": [
    "### Check basic information about dataset"
   ]
  },
  {
   "cell_type": "code",
   "execution_count": 4,
   "id": "f161cc5a",
   "metadata": {},
   "outputs": [
    {
     "name": "stdout",
     "output_type": "stream",
     "text": [
      "<class 'pandas.core.frame.DataFrame'>\n",
      "RangeIndex: 2783 entries, 0 to 2782\n",
      "Data columns (total 23 columns):\n",
      " #   Column       Non-Null Count  Dtype  \n",
      "---  ------       --------------  -----  \n",
      " 0   Plot         2783 non-null   int64  \n",
      " 1   Subplot      2783 non-null   object \n",
      " 2   Species      2783 non-null   object \n",
      " 3   Light_ISF    2783 non-null   float64\n",
      " 4   Light_Cat    2783 non-null   object \n",
      " 5   Core         2783 non-null   int64  \n",
      " 6   Soil         2783 non-null   object \n",
      " 7   Adult        2783 non-null   object \n",
      " 8   Sterile      2783 non-null   object \n",
      " 9   Conspecific  2783 non-null   object \n",
      " 10  Myco         2783 non-null   object \n",
      " 11  SoilMyco     2783 non-null   object \n",
      " 12  PlantDate    2783 non-null   object \n",
      " 13  AMF          2783 non-null   float64\n",
      " 14  EMF          1283 non-null   float64\n",
      " 15  Phenolics    2783 non-null   float64\n",
      " 16  Lignin       2783 non-null   float64\n",
      " 17  NSC          2783 non-null   float64\n",
      " 18  Census       2783 non-null   int64  \n",
      " 19  Time         2783 non-null   float64\n",
      " 20  Event        2782 non-null   float64\n",
      " 21  Harvest      704 non-null    object \n",
      " 22  Alive        491 non-null    object \n",
      "dtypes: float64(8), int64(3), object(12)\n",
      "memory usage: 500.2+ KB\n"
     ]
    }
   ],
   "source": [
    "tree_df.info()"
   ]
  },
  {
   "cell_type": "code",
   "execution_count": 5,
   "id": "8241df23",
   "metadata": {},
   "outputs": [
    {
     "data": {
      "text/html": [
       "<div>\n",
       "<style scoped>\n",
       "    .dataframe tbody tr th:only-of-type {\n",
       "        vertical-align: middle;\n",
       "    }\n",
       "\n",
       "    .dataframe tbody tr th {\n",
       "        vertical-align: top;\n",
       "    }\n",
       "\n",
       "    .dataframe thead th {\n",
       "        text-align: right;\n",
       "    }\n",
       "</style>\n",
       "<table border=\"1\" class=\"dataframe\">\n",
       "  <thead>\n",
       "    <tr style=\"text-align: right;\">\n",
       "      <th></th>\n",
       "      <th>Plot</th>\n",
       "      <th>Light_ISF</th>\n",
       "      <th>Core</th>\n",
       "      <th>AMF</th>\n",
       "      <th>EMF</th>\n",
       "      <th>Phenolics</th>\n",
       "      <th>Lignin</th>\n",
       "      <th>NSC</th>\n",
       "      <th>Census</th>\n",
       "      <th>Time</th>\n",
       "      <th>Event</th>\n",
       "    </tr>\n",
       "  </thead>\n",
       "  <tbody>\n",
       "    <tr>\n",
       "      <th>count</th>\n",
       "      <td>2783.000000</td>\n",
       "      <td>2783.000000</td>\n",
       "      <td>2783.000000</td>\n",
       "      <td>2783.000000</td>\n",
       "      <td>1283.00000</td>\n",
       "      <td>2783.000000</td>\n",
       "      <td>2783.000000</td>\n",
       "      <td>2783.000000</td>\n",
       "      <td>2783.000000</td>\n",
       "      <td>2783.000000</td>\n",
       "      <td>2782.000000</td>\n",
       "    </tr>\n",
       "    <tr>\n",
       "      <th>mean</th>\n",
       "      <td>9.561624</td>\n",
       "      <td>0.085707</td>\n",
       "      <td>2016.648940</td>\n",
       "      <td>20.553069</td>\n",
       "      <td>26.47675</td>\n",
       "      <td>1.933105</td>\n",
       "      <td>15.759792</td>\n",
       "      <td>14.219641</td>\n",
       "      <td>15.282070</td>\n",
       "      <td>53.487244</td>\n",
       "      <td>0.570453</td>\n",
       "    </tr>\n",
       "    <tr>\n",
       "      <th>std</th>\n",
       "      <td>5.203659</td>\n",
       "      <td>0.025638</td>\n",
       "      <td>0.477387</td>\n",
       "      <td>12.309587</td>\n",
       "      <td>16.63689</td>\n",
       "      <td>1.969842</td>\n",
       "      <td>6.779607</td>\n",
       "      <td>4.298271</td>\n",
       "      <td>9.166555</td>\n",
       "      <td>32.082942</td>\n",
       "      <td>0.495100</td>\n",
       "    </tr>\n",
       "    <tr>\n",
       "      <th>min</th>\n",
       "      <td>1.000000</td>\n",
       "      <td>0.032000</td>\n",
       "      <td>2016.000000</td>\n",
       "      <td>0.000000</td>\n",
       "      <td>0.00000</td>\n",
       "      <td>-1.350000</td>\n",
       "      <td>2.230000</td>\n",
       "      <td>4.300000</td>\n",
       "      <td>4.000000</td>\n",
       "      <td>14.000000</td>\n",
       "      <td>0.000000</td>\n",
       "    </tr>\n",
       "    <tr>\n",
       "      <th>25%</th>\n",
       "      <td>5.000000</td>\n",
       "      <td>0.066000</td>\n",
       "      <td>2016.000000</td>\n",
       "      <td>13.400000</td>\n",
       "      <td>13.78000</td>\n",
       "      <td>0.170000</td>\n",
       "      <td>10.355000</td>\n",
       "      <td>11.605000</td>\n",
       "      <td>7.000000</td>\n",
       "      <td>24.500000</td>\n",
       "      <td>0.000000</td>\n",
       "    </tr>\n",
       "    <tr>\n",
       "      <th>50%</th>\n",
       "      <td>10.000000</td>\n",
       "      <td>0.082000</td>\n",
       "      <td>2017.000000</td>\n",
       "      <td>18.000000</td>\n",
       "      <td>27.72000</td>\n",
       "      <td>0.750000</td>\n",
       "      <td>14.040000</td>\n",
       "      <td>12.660000</td>\n",
       "      <td>13.000000</td>\n",
       "      <td>45.500000</td>\n",
       "      <td>1.000000</td>\n",
       "    </tr>\n",
       "    <tr>\n",
       "      <th>75%</th>\n",
       "      <td>14.000000</td>\n",
       "      <td>0.100000</td>\n",
       "      <td>2017.000000</td>\n",
       "      <td>24.445000</td>\n",
       "      <td>35.71000</td>\n",
       "      <td>3.780000</td>\n",
       "      <td>21.115000</td>\n",
       "      <td>17.275000</td>\n",
       "      <td>18.000000</td>\n",
       "      <td>63.000000</td>\n",
       "      <td>1.000000</td>\n",
       "    </tr>\n",
       "    <tr>\n",
       "      <th>max</th>\n",
       "      <td>18.000000</td>\n",
       "      <td>0.161000</td>\n",
       "      <td>2017.000000</td>\n",
       "      <td>100.000000</td>\n",
       "      <td>87.50000</td>\n",
       "      <td>6.100000</td>\n",
       "      <td>32.770000</td>\n",
       "      <td>29.450000</td>\n",
       "      <td>33.000000</td>\n",
       "      <td>115.500000</td>\n",
       "      <td>1.000000</td>\n",
       "    </tr>\n",
       "  </tbody>\n",
       "</table>\n",
       "</div>"
      ],
      "text/plain": [
       "              Plot    Light_ISF         Core          AMF         EMF  \\\n",
       "count  2783.000000  2783.000000  2783.000000  2783.000000  1283.00000   \n",
       "mean      9.561624     0.085707  2016.648940    20.553069    26.47675   \n",
       "std       5.203659     0.025638     0.477387    12.309587    16.63689   \n",
       "min       1.000000     0.032000  2016.000000     0.000000     0.00000   \n",
       "25%       5.000000     0.066000  2016.000000    13.400000    13.78000   \n",
       "50%      10.000000     0.082000  2017.000000    18.000000    27.72000   \n",
       "75%      14.000000     0.100000  2017.000000    24.445000    35.71000   \n",
       "max      18.000000     0.161000  2017.000000   100.000000    87.50000   \n",
       "\n",
       "         Phenolics       Lignin          NSC       Census         Time  \\\n",
       "count  2783.000000  2783.000000  2783.000000  2783.000000  2783.000000   \n",
       "mean      1.933105    15.759792    14.219641    15.282070    53.487244   \n",
       "std       1.969842     6.779607     4.298271     9.166555    32.082942   \n",
       "min      -1.350000     2.230000     4.300000     4.000000    14.000000   \n",
       "25%       0.170000    10.355000    11.605000     7.000000    24.500000   \n",
       "50%       0.750000    14.040000    12.660000    13.000000    45.500000   \n",
       "75%       3.780000    21.115000    17.275000    18.000000    63.000000   \n",
       "max       6.100000    32.770000    29.450000    33.000000   115.500000   \n",
       "\n",
       "             Event  \n",
       "count  2782.000000  \n",
       "mean      0.570453  \n",
       "std       0.495100  \n",
       "min       0.000000  \n",
       "25%       0.000000  \n",
       "50%       1.000000  \n",
       "75%       1.000000  \n",
       "max       1.000000  "
      ]
     },
     "execution_count": 5,
     "metadata": {},
     "output_type": "execute_result"
    }
   ],
   "source": [
    "tree_df.describe()"
   ]
  },
  {
   "cell_type": "code",
   "execution_count": 6,
   "id": "fd00e290",
   "metadata": {},
   "outputs": [
    {
     "data": {
      "text/plain": [
       "Plot              0\n",
       "Subplot           0\n",
       "Species           0\n",
       "Light_ISF         0\n",
       "Light_Cat         0\n",
       "Core              0\n",
       "Soil              0\n",
       "Adult             0\n",
       "Sterile           0\n",
       "Conspecific       0\n",
       "Myco              0\n",
       "SoilMyco          0\n",
       "PlantDate         0\n",
       "AMF               0\n",
       "EMF            1500\n",
       "Phenolics         0\n",
       "Lignin            0\n",
       "NSC               0\n",
       "Census            0\n",
       "Time              0\n",
       "Event             1\n",
       "Harvest        2079\n",
       "Alive          2292\n",
       "dtype: int64"
      ]
     },
     "execution_count": 6,
     "metadata": {},
     "output_type": "execute_result"
    }
   ],
   "source": [
    "tree_df.isna().sum()"
   ]
  },
  {
   "cell_type": "code",
   "execution_count": 7,
   "id": "f2d5969f",
   "metadata": {},
   "outputs": [
    {
     "data": {
      "image/png": "[encoded data removed]",
      "text/plain": [
       "<Figure size 1200x1200 with 12 Axes>"
      ]
     },
     "metadata": {},
     "output_type": "display_data"
    }
   ],
   "source": [
    "tree_df.hist(bins=30, figsize=(12, 12));"
   ]
  },
  {
   "cell_type": "markdown",
   "id": "2c5ecca5",
   "metadata": {},
   "source": [
    "### Splitting data into train and test sets"
   ]
  },
  {
   "cell_type": "code",
   "execution_count": 8,
   "id": "92a27632",
   "metadata": {},
   "outputs": [],
   "source": [
    "from sklearn.model_selection import train_test_split\n",
    "train_set, test_set = train_test_split(tree_df, test_size=0.2, random_state=123)\n",
    "tree_df = train_set.copy()"
   ]
  },
  {
   "cell_type": "markdown",
   "id": "16c60ddc",
   "metadata": {},
   "source": [
    "### More visualization"
   ]
  },
  {
   "cell_type": "code",
   "execution_count": 9,
   "id": "0c4714ea",
   "metadata": {},
   "outputs": [
    {
     "data": {
      "text/plain": [
       "Phenolics   -0.566615\n",
       "Lignin      -0.506783\n",
       "NSC         -0.402428\n",
       "Census      -0.227342\n",
       "Time        -0.227342\n",
       "Plot        -0.076464\n",
       "Light_ISF   -0.062688\n",
       "Core        -0.048868\n",
       "EMF         -0.038510\n",
       "AMF          0.121148\n",
       "Event        1.000000\n",
       "Name: Event, dtype: float64"
      ]
     },
     "execution_count": 9,
     "metadata": {},
     "output_type": "execute_result"
    }
   ],
   "source": [
    "corr_mat = tree_df.corr(numeric_only=True)\n",
    "corr_mat['Event'].sort_values()"
   ]
  },
  {
   "cell_type": "markdown",
   "id": "0ae4ab19",
   "metadata": {},
   "source": [
    "Z racji że \"0\" oznacza, że drzewo przeżyło, ujemną korelację należy rozumieć jako sprzyjającą do przeżycia."
   ]
  },
  {
   "cell_type": "code",
   "execution_count": 10,
   "id": "319a8c29",
   "metadata": {},
   "outputs": [
    {
     "data": {
      "text/plain": [
       "Plot\n",
       "1     134\n",
       "2     121\n",
       "3     119\n",
       "4     117\n",
       "5     126\n",
       "6     127\n",
       "7     121\n",
       "8     115\n",
       "9     116\n",
       "10    124\n",
       "11    133\n",
       "12    124\n",
       "13    115\n",
       "14    118\n",
       "15    132\n",
       "16    122\n",
       "17    123\n",
       "18    139\n",
       "dtype: int64"
      ]
     },
     "execution_count": 10,
     "metadata": {},
     "output_type": "execute_result"
    }
   ],
   "source": [
    "trees_grouped = tree_df.groupby('Plot')\n",
    "trees_per_sector = trees_grouped['Subplot'].value_counts()\n",
    "trees_per_sector = trees_per_sector.unstack().sum(axis=1)\n",
    "trees_per_sector"
   ]
  },
  {
   "cell_type": "code",
   "execution_count": 11,
   "id": "0c1618ef",
   "metadata": {},
   "outputs": [
    {
     "data": {
      "text/plain": [
       "<Axes: title={'center': 'Liczba drzew w poszczegolnych sektorach'}, xlabel='Sektor', ylabel='Liczba drzew'>"
      ]
     },
     "execution_count": 11,
     "metadata": {},
     "output_type": "execute_result"
    },
    {
     "data": {
      "image/png": "[encoded data removed]",
      "text/plain": [
       "<Figure size 640x480 with 1 Axes>"
      ]
     },
     "metadata": {},
     "output_type": "display_data"
    }
   ],
   "source": [
    "trees_per_sector.plot(kind='bar', title='Liczba drzew w poszczegolnych sektorach',\n",
    "                      ylabel='Liczba drzew', xlabel='Sektor')"
   ]
  },
  {
   "cell_type": "markdown",
   "id": "6a9e61b0",
   "metadata": {},
   "source": [
    "### Handle missing data"
   ]
  },
  {
   "cell_type": "code",
   "execution_count": 12,
   "id": "0b2e5b37",
   "metadata": {},
   "outputs": [],
   "source": [
    "def drop_rows_without_label(df):\n",
    "    return df.dropna(subset='Event')"
   ]
  },
  {
   "cell_type": "code",
   "execution_count": 13,
   "id": "42fc48c0",
   "metadata": {},
   "outputs": [
    {
     "data": {
      "text/plain": [
       "Plot              0\n",
       "Subplot           0\n",
       "Species           0\n",
       "Light_ISF         0\n",
       "Light_Cat         0\n",
       "Core              0\n",
       "Soil              0\n",
       "Adult             0\n",
       "Sterile           0\n",
       "Conspecific       0\n",
       "Myco              0\n",
       "SoilMyco          0\n",
       "PlantDate         0\n",
       "AMF               0\n",
       "EMF            1188\n",
       "Phenolics         0\n",
       "Lignin            0\n",
       "NSC               0\n",
       "Census            0\n",
       "Time              0\n",
       "Event             1\n",
       "Harvest        1660\n",
       "Alive          1835\n",
       "dtype: int64"
      ]
     },
     "execution_count": 13,
     "metadata": {},
     "output_type": "execute_result"
    }
   ],
   "source": [
    "tree_df.isna().sum()"
   ]
  },
  {
   "cell_type": "code",
   "execution_count": 14,
   "id": "9af53694",
   "metadata": {},
   "outputs": [
    {
     "data": {
      "text/plain": [
       "Plot              0\n",
       "Subplot           0\n",
       "Species           0\n",
       "Light_ISF         0\n",
       "Light_Cat         0\n",
       "Core              0\n",
       "Soil              0\n",
       "Adult             0\n",
       "Sterile           0\n",
       "Conspecific       0\n",
       "Myco              0\n",
       "SoilMyco          0\n",
       "PlantDate         0\n",
       "AMF               0\n",
       "EMF            1188\n",
       "Phenolics         0\n",
       "Lignin            0\n",
       "NSC               0\n",
       "Census            0\n",
       "Time              0\n",
       "Event             0\n",
       "Harvest        1659\n",
       "Alive          1834\n",
       "dtype: int64"
      ]
     },
     "execution_count": 14,
     "metadata": {},
     "output_type": "execute_result"
    }
   ],
   "source": [
    "tree_df = drop_rows_without_label(tree_df)\n",
    "tree_df.isna().sum()"
   ]
  },
  {
   "cell_type": "code",
   "execution_count": 15,
   "id": "c06692eb",
   "metadata": {},
   "outputs": [],
   "source": [
    "def drop_useless_cols(df):\n",
    "    return df.drop(['Harvest', 'Alive', 'PlantDate', 'Adult'], axis=1)"
   ]
  },
  {
   "cell_type": "code",
   "execution_count": 16,
   "id": "9245f790",
   "metadata": {},
   "outputs": [
    {
     "data": {
      "text/plain": [
       "Plot              0\n",
       "Subplot           0\n",
       "Species           0\n",
       "Light_ISF         0\n",
       "Light_Cat         0\n",
       "Core              0\n",
       "Soil              0\n",
       "Sterile           0\n",
       "Conspecific       0\n",
       "Myco              0\n",
       "SoilMyco          0\n",
       "AMF               0\n",
       "EMF            1188\n",
       "Phenolics         0\n",
       "Lignin            0\n",
       "NSC               0\n",
       "Census            0\n",
       "Time              0\n",
       "Event             0\n",
       "dtype: int64"
      ]
     },
     "execution_count": 16,
     "metadata": {},
     "output_type": "execute_result"
    }
   ],
   "source": [
    "tree_df = drop_useless_cols(tree_df)\n",
    "tree_df.isna().sum()"
   ]
  },
  {
   "cell_type": "markdown",
   "id": "3550c441",
   "metadata": {},
   "source": [
    "Split into X and y (attributes and labels)"
   ]
  },
  {
   "cell_type": "code",
   "execution_count": 17,
   "id": "d33ac7b4",
   "metadata": {},
   "outputs": [],
   "source": [
    "tree_labels = tree_df['Event'].copy()\n",
    "tree_df = tree_df.drop('Event', axis=1)"
   ]
  },
  {
   "cell_type": "markdown",
   "id": "e2e8e108",
   "metadata": {},
   "source": [
    "Create pipelines"
   ]
  },
  {
   "cell_type": "code",
   "execution_count": 18,
   "id": "8429fe05",
   "metadata": {},
   "outputs": [
    {
     "data": {
      "text/plain": [
       "Plot             int64\n",
       "Subplot         object\n",
       "Species         object\n",
       "Light_ISF      float64\n",
       "Light_Cat       object\n",
       "Core             int64\n",
       "Soil            object\n",
       "Sterile         object\n",
       "Conspecific     object\n",
       "Myco            object\n",
       "SoilMyco        object\n",
       "AMF            float64\n",
       "EMF            float64\n",
       "Phenolics      float64\n",
       "Lignin         float64\n",
       "NSC            float64\n",
       "Census           int64\n",
       "Time           float64\n",
       "dtype: object"
      ]
     },
     "execution_count": 18,
     "metadata": {},
     "output_type": "execute_result"
    }
   ],
   "source": [
    "tree_df.dtypes"
   ]
  },
  {
   "cell_type": "code",
   "execution_count": 19,
   "id": "25513fee",
   "metadata": {},
   "outputs": [],
   "source": [
    "from sklearn.impute import SimpleImputer\n",
    "from sklearn.preprocessing import OneHotEncoder, StandardScaler\n",
    "from sklearn.pipeline import make_pipeline\n",
    "from sklearn.compose import ColumnTransformer, make_column_transformer"
   ]
  },
  {
   "cell_type": "code",
   "execution_count": 20,
   "id": "f8fbb008",
   "metadata": {},
   "outputs": [
    {
     "data": {
      "text/html": [
       "<div>\n",
       "<style scoped>\n",
       "    .dataframe tbody tr th:only-of-type {\n",
       "        vertical-align: middle;\n",
       "    }\n",
       "\n",
       "    .dataframe tbody tr th {\n",
       "        vertical-align: top;\n",
       "    }\n",
       "\n",
       "    .dataframe thead th {\n",
       "        text-align: right;\n",
       "    }\n",
       "</style>\n",
       "<table border=\"1\" class=\"dataframe\">\n",
       "  <thead>\n",
       "    <tr style=\"text-align: right;\">\n",
       "      <th></th>\n",
       "      <th>Light_ISF</th>\n",
       "      <th>AMF</th>\n",
       "      <th>EMF</th>\n",
       "      <th>Phenolics</th>\n",
       "      <th>Lignin</th>\n",
       "      <th>NSC</th>\n",
       "      <th>Time</th>\n",
       "    </tr>\n",
       "  </thead>\n",
       "  <tbody>\n",
       "    <tr>\n",
       "      <th>807</th>\n",
       "      <td>0.087</td>\n",
       "      <td>5.29</td>\n",
       "      <td>4.78</td>\n",
       "      <td>3.30</td>\n",
       "      <td>18.95</td>\n",
       "      <td>20.18</td>\n",
       "      <td>115.5</td>\n",
       "    </tr>\n",
       "    <tr>\n",
       "      <th>2192</th>\n",
       "      <td>0.075</td>\n",
       "      <td>22.96</td>\n",
       "      <td>NaN</td>\n",
       "      <td>0.33</td>\n",
       "      <td>5.02</td>\n",
       "      <td>6.73</td>\n",
       "      <td>45.5</td>\n",
       "    </tr>\n",
       "    <tr>\n",
       "      <th>1074</th>\n",
       "      <td>0.074</td>\n",
       "      <td>7.00</td>\n",
       "      <td>32.00</td>\n",
       "      <td>4.59</td>\n",
       "      <td>23.83</td>\n",
       "      <td>16.21</td>\n",
       "      <td>24.5</td>\n",
       "    </tr>\n",
       "    <tr>\n",
       "      <th>841</th>\n",
       "      <td>0.055</td>\n",
       "      <td>17.00</td>\n",
       "      <td>58.33</td>\n",
       "      <td>2.77</td>\n",
       "      <td>27.11</td>\n",
       "      <td>12.01</td>\n",
       "      <td>24.5</td>\n",
       "    </tr>\n",
       "    <tr>\n",
       "      <th>2508</th>\n",
       "      <td>0.122</td>\n",
       "      <td>15.11</td>\n",
       "      <td>19.25</td>\n",
       "      <td>4.14</td>\n",
       "      <td>19.76</td>\n",
       "      <td>20.15</td>\n",
       "      <td>115.5</td>\n",
       "    </tr>\n",
       "    <tr>\n",
       "      <th>...</th>\n",
       "      <td>...</td>\n",
       "      <td>...</td>\n",
       "      <td>...</td>\n",
       "      <td>...</td>\n",
       "      <td>...</td>\n",
       "      <td>...</td>\n",
       "      <td>...</td>\n",
       "    </tr>\n",
       "    <tr>\n",
       "      <th>1147</th>\n",
       "      <td>0.086</td>\n",
       "      <td>52.00</td>\n",
       "      <td>NaN</td>\n",
       "      <td>0.90</td>\n",
       "      <td>10.47</td>\n",
       "      <td>14.52</td>\n",
       "      <td>24.5</td>\n",
       "    </tr>\n",
       "    <tr>\n",
       "      <th>2154</th>\n",
       "      <td>0.087</td>\n",
       "      <td>22.29</td>\n",
       "      <td>27.83</td>\n",
       "      <td>3.35</td>\n",
       "      <td>24.90</td>\n",
       "      <td>14.95</td>\n",
       "      <td>115.5</td>\n",
       "    </tr>\n",
       "    <tr>\n",
       "      <th>1766</th>\n",
       "      <td>0.074</td>\n",
       "      <td>21.81</td>\n",
       "      <td>NaN</td>\n",
       "      <td>0.31</td>\n",
       "      <td>5.07</td>\n",
       "      <td>6.89</td>\n",
       "      <td>42.0</td>\n",
       "    </tr>\n",
       "    <tr>\n",
       "      <th>1122</th>\n",
       "      <td>0.087</td>\n",
       "      <td>28.00</td>\n",
       "      <td>7.14</td>\n",
       "      <td>3.79</td>\n",
       "      <td>21.22</td>\n",
       "      <td>18.07</td>\n",
       "      <td>24.5</td>\n",
       "    </tr>\n",
       "    <tr>\n",
       "      <th>1346</th>\n",
       "      <td>0.141</td>\n",
       "      <td>38.00</td>\n",
       "      <td>46.15</td>\n",
       "      <td>5.33</td>\n",
       "      <td>18.99</td>\n",
       "      <td>24.74</td>\n",
       "      <td>24.5</td>\n",
       "    </tr>\n",
       "  </tbody>\n",
       "</table>\n",
       "<p>2225 rows × 7 columns</p>\n",
       "</div>"
      ],
      "text/plain": [
       "      Light_ISF    AMF    EMF  Phenolics  Lignin    NSC   Time\n",
       "807       0.087   5.29   4.78       3.30   18.95  20.18  115.5\n",
       "2192      0.075  22.96    NaN       0.33    5.02   6.73   45.5\n",
       "1074      0.074   7.00  32.00       4.59   23.83  16.21   24.5\n",
       "841       0.055  17.00  58.33       2.77   27.11  12.01   24.5\n",
       "2508      0.122  15.11  19.25       4.14   19.76  20.15  115.5\n",
       "...         ...    ...    ...        ...     ...    ...    ...\n",
       "1147      0.086  52.00    NaN       0.90   10.47  14.52   24.5\n",
       "2154      0.087  22.29  27.83       3.35   24.90  14.95  115.5\n",
       "1766      0.074  21.81    NaN       0.31    5.07   6.89   42.0\n",
       "1122      0.087  28.00   7.14       3.79   21.22  18.07   24.5\n",
       "1346      0.141  38.00  46.15       5.33   18.99  24.74   24.5\n",
       "\n",
       "[2225 rows x 7 columns]"
      ]
     },
     "execution_count": 20,
     "metadata": {},
     "output_type": "execute_result"
    }
   ],
   "source": [
    "tree_num_attribs = tree_df.select_dtypes(include=[np.number])\n",
    "tree_num_attribs = tree_num_attribs.drop(['Core', 'Plot', 'Census'], axis=1)\n",
    "tree_num_attribs"
   ]
  },
  {
   "cell_type": "code",
   "execution_count": 21,
   "id": "282cddef",
   "metadata": {},
   "outputs": [
    {
     "data": {
      "text/plain": [
       "['Light_ISF', 'AMF', 'EMF', 'Phenolics', 'Lignin', 'NSC', 'Time']"
      ]
     },
     "execution_count": 21,
     "metadata": {},
     "output_type": "execute_result"
    }
   ],
   "source": [
    "tree_num_attribs_names = list(tree_num_attribs.columns)\n",
    "tree_num_attribs_names"
   ]
  },
  {
   "cell_type": "code",
   "execution_count": 22,
   "id": "96f80376",
   "metadata": {},
   "outputs": [],
   "source": [
    "num_pipeline = make_pipeline(SimpleImputer(strategy='median'),\n",
    "                             StandardScaler())"
   ]
  },
  {
   "cell_type": "code",
   "execution_count": 23,
   "id": "eab2126c",
   "metadata": {},
   "outputs": [
    {
     "data": {
      "text/html": [
       "<style>#sk-container-id-1 {color: black;}#sk-container-id-1 pre{padding: 0;}#sk-container-id-1 div.sk-toggleable {background-color: white;}#sk-container-id-1 label.sk-toggleable__label {cursor: pointer;display: block;width: 100%;margin-bottom: 0;padding: 0.3em;box-sizing: border-box;text-align: center;}#sk-container-id-1 label.sk-toggleable__label-arrow:before {content: \"▸\";float: left;margin-right: 0.25em;color: #696969;}#sk-container-id-1 label.sk-toggleable__label-arrow:hover:before {color: black;}#sk-container-id-1 div.sk-estimator:hover label.sk-toggleable__label-arrow:before {color: black;}#sk-container-id-1 div.sk-toggleable__content {max-height: 0;max-width: 0;overflow: hidden;text-align: left;background-color: #f0f8ff;}#sk-container-id-1 div.sk-toggleable__content pre {margin: 0.2em;color: black;border-radius: 0.25em;background-color: #f0f8ff;}#sk-container-id-1 input.sk-toggleable__control:checked~div.sk-toggleable__content {max-height: 200px;max-width: 100%;overflow: auto;}#sk-container-id-1 input.sk-toggleable__control:checked~label.sk-toggleable__label-arrow:before {content: \"▾\";}#sk-container-id-1 div.sk-estimator input.sk-toggleable__control:checked~label.sk-toggleable__label {background-color: #d4ebff;}#sk-container-id-1 div.sk-label input.sk-toggleable__control:checked~label.sk-toggleable__label {background-color: #d4ebff;}#sk-container-id-1 input.sk-hidden--visually {border: 0;clip: rect(1px 1px 1px 1px);clip: rect(1px, 1px, 1px, 1px);height: 1px;margin: -1px;overflow: hidden;padding: 0;position: absolute;width: 1px;}#sk-container-id-1 div.sk-estimator {font-family: monospace;background-color: #f0f8ff;border: 1px dotted black;border-radius: 0.25em;box-sizing: border-box;margin-bottom: 0.5em;}#sk-container-id-1 div.sk-estimator:hover {background-color: #d4ebff;}#sk-container-id-1 div.sk-parallel-item::after {content: \"\";width: 100%;border-bottom: 1px solid gray;flex-grow: 1;}#sk-container-id-1 div.sk-label:hover label.sk-toggleable__label {background-color: #d4ebff;}#sk-container-id-1 div.sk-serial::before {content: \"\";position: absolute;border-left: 1px solid gray;box-sizing: border-box;top: 0;bottom: 0;left: 50%;z-index: 0;}#sk-container-id-1 div.sk-serial {display: flex;flex-direction: column;align-items: center;background-color: white;padding-right: 0.2em;padding-left: 0.2em;position: relative;}#sk-container-id-1 div.sk-item {position: relative;z-index: 1;}#sk-container-id-1 div.sk-parallel {display: flex;align-items: stretch;justify-content: center;background-color: white;position: relative;}#sk-container-id-1 div.sk-item::before, #sk-container-id-1 div.sk-parallel-item::before {content: \"\";position: absolute;border-left: 1px solid gray;box-sizing: border-box;top: 0;bottom: 0;left: 50%;z-index: -1;}#sk-container-id-1 div.sk-parallel-item {display: flex;flex-direction: column;z-index: 1;position: relative;background-color: white;}#sk-container-id-1 div.sk-parallel-item:first-child::after {align-self: flex-end;width: 50%;}#sk-container-id-1 div.sk-parallel-item:last-child::after {align-self: flex-start;width: 50%;}#sk-container-id-1 div.sk-parallel-item:only-child::after {width: 0;}#sk-container-id-1 div.sk-dashed-wrapped {border: 1px dashed gray;margin: 0 0.4em 0.5em 0.4em;box-sizing: border-box;padding-bottom: 0.4em;background-color: white;}#sk-container-id-1 div.sk-label label {font-family: monospace;font-weight: bold;display: inline-block;line-height: 1.2em;}#sk-container-id-1 div.sk-label-container {text-align: center;}#sk-container-id-1 div.sk-container {/* jupyter's `normalize.less` sets `[hidden] { display: none; }` but bootstrap.min.css set `[hidden] { display: none !important; }` so we also need the `!important` here to be able to override the default hidden behavior on the sphinx rendered scikit-learn.org. See: https://github.com/scikit-learn/scikit-learn/issues/21755 */display: inline-block !important;position: relative;}#sk-container-id-1 div.sk-text-repr-fallback {display: none;}</style><div id=\"sk-container-id-1\" class=\"sk-top-container\"><div class=\"sk-text-repr-fallback\"><pre>Pipeline(steps=[(&#x27;simpleimputer&#x27;, SimpleImputer(strategy=&#x27;median&#x27;)),\n",
       "                (&#x27;standardscaler&#x27;, StandardScaler())])</pre><b>In a Jupyter environment, please rerun this cell to show the HTML representation or trust the notebook. <br />On GitHub, the HTML representation is unable to render, please try loading this page with nbviewer.org.</b></div><div class=\"sk-container\" hidden><div class=\"sk-item sk-dashed-wrapped\"><div class=\"sk-label-container\"><div class=\"sk-label sk-toggleable\"><input class=\"sk-toggleable__control sk-hidden--visually\" id=\"sk-estimator-id-1\" type=\"checkbox\" ><label for=\"sk-estimator-id-1\" class=\"sk-toggleable__label sk-toggleable__label-arrow\">Pipeline</label><div class=\"sk-toggleable__content\"><pre>Pipeline(steps=[(&#x27;simpleimputer&#x27;, SimpleImputer(strategy=&#x27;median&#x27;)),\n",
       "                (&#x27;standardscaler&#x27;, StandardScaler())])</pre></div></div></div><div class=\"sk-serial\"><div class=\"sk-item\"><div class=\"sk-estimator sk-toggleable\"><input class=\"sk-toggleable__control sk-hidden--visually\" id=\"sk-estimator-id-2\" type=\"checkbox\" ><label for=\"sk-estimator-id-2\" class=\"sk-toggleable__label sk-toggleable__label-arrow\">SimpleImputer</label><div class=\"sk-toggleable__content\"><pre>SimpleImputer(strategy=&#x27;median&#x27;)</pre></div></div></div><div class=\"sk-item\"><div class=\"sk-estimator sk-toggleable\"><input class=\"sk-toggleable__control sk-hidden--visually\" id=\"sk-estimator-id-3\" type=\"checkbox\" ><label for=\"sk-estimator-id-3\" class=\"sk-toggleable__label sk-toggleable__label-arrow\">StandardScaler</label><div class=\"sk-toggleable__content\"><pre>StandardScaler()</pre></div></div></div></div></div></div></div>"
      ],
      "text/plain": [
       "Pipeline(steps=[('simpleimputer', SimpleImputer(strategy='median')),\n",
       "                ('standardscaler', StandardScaler())])"
      ]
     },
     "execution_count": 23,
     "metadata": {},
     "output_type": "execute_result"
    }
   ],
   "source": [
    "num_pipeline"
   ]
  },
  {
   "cell_type": "code",
   "execution_count": 24,
   "id": "e7ac9128",
   "metadata": {
    "scrolled": false
   },
   "outputs": [
    {
     "data": {
      "text/html": [
       "<div>\n",
       "<style scoped>\n",
       "    .dataframe tbody tr th:only-of-type {\n",
       "        vertical-align: middle;\n",
       "    }\n",
       "\n",
       "    .dataframe tbody tr th {\n",
       "        vertical-align: top;\n",
       "    }\n",
       "\n",
       "    .dataframe thead th {\n",
       "        text-align: right;\n",
       "    }\n",
       "</style>\n",
       "<table border=\"1\" class=\"dataframe\">\n",
       "  <thead>\n",
       "    <tr style=\"text-align: right;\">\n",
       "      <th></th>\n",
       "      <th>Subplot</th>\n",
       "      <th>Species</th>\n",
       "      <th>Light_Cat</th>\n",
       "      <th>Soil</th>\n",
       "      <th>Sterile</th>\n",
       "      <th>Conspecific</th>\n",
       "      <th>Myco</th>\n",
       "      <th>SoilMyco</th>\n",
       "      <th>Core</th>\n",
       "      <th>Plot</th>\n",
       "      <th>Census</th>\n",
       "    </tr>\n",
       "  </thead>\n",
       "  <tbody>\n",
       "    <tr>\n",
       "      <th>807</th>\n",
       "      <td>C</td>\n",
       "      <td>Quercus alba</td>\n",
       "      <td>Med</td>\n",
       "      <td>Sterile</td>\n",
       "      <td>Sterile</td>\n",
       "      <td>Sterilized</td>\n",
       "      <td>EMF</td>\n",
       "      <td>Sterile</td>\n",
       "      <td>2017</td>\n",
       "      <td>6</td>\n",
       "      <td>33</td>\n",
       "    </tr>\n",
       "    <tr>\n",
       "      <th>2192</th>\n",
       "      <td>C</td>\n",
       "      <td>Prunus serotina</td>\n",
       "      <td>Low</td>\n",
       "      <td>Acer rubrum</td>\n",
       "      <td>Non-Sterile</td>\n",
       "      <td>Heterospecific</td>\n",
       "      <td>AMF</td>\n",
       "      <td>AMF</td>\n",
       "      <td>2017</td>\n",
       "      <td>10</td>\n",
       "      <td>13</td>\n",
       "    </tr>\n",
       "    <tr>\n",
       "      <th>1074</th>\n",
       "      <td>B</td>\n",
       "      <td>Quercus alba</td>\n",
       "      <td>Low</td>\n",
       "      <td>Acer rubrum</td>\n",
       "      <td>Non-Sterile</td>\n",
       "      <td>Heterospecific</td>\n",
       "      <td>EMF</td>\n",
       "      <td>AMF</td>\n",
       "      <td>2017</td>\n",
       "      <td>14</td>\n",
       "      <td>7</td>\n",
       "    </tr>\n",
       "    <tr>\n",
       "      <th>841</th>\n",
       "      <td>B</td>\n",
       "      <td>Quercus rubra</td>\n",
       "      <td>Low</td>\n",
       "      <td>Populus grandidentata</td>\n",
       "      <td>Non-Sterile</td>\n",
       "      <td>Heterospecific</td>\n",
       "      <td>EMF</td>\n",
       "      <td>EMF</td>\n",
       "      <td>2016</td>\n",
       "      <td>11</td>\n",
       "      <td>7</td>\n",
       "    </tr>\n",
       "    <tr>\n",
       "      <th>2508</th>\n",
       "      <td>C</td>\n",
       "      <td>Quercus alba</td>\n",
       "      <td>High</td>\n",
       "      <td>Sterile</td>\n",
       "      <td>Sterile</td>\n",
       "      <td>Sterilized</td>\n",
       "      <td>EMF</td>\n",
       "      <td>Sterile</td>\n",
       "      <td>2017</td>\n",
       "      <td>17</td>\n",
       "      <td>33</td>\n",
       "    </tr>\n",
       "    <tr>\n",
       "      <th>...</th>\n",
       "      <td>...</td>\n",
       "      <td>...</td>\n",
       "      <td>...</td>\n",
       "      <td>...</td>\n",
       "      <td>...</td>\n",
       "      <td>...</td>\n",
       "      <td>...</td>\n",
       "      <td>...</td>\n",
       "      <td>...</td>\n",
       "      <td>...</td>\n",
       "      <td>...</td>\n",
       "    </tr>\n",
       "    <tr>\n",
       "      <th>1147</th>\n",
       "      <td>D</td>\n",
       "      <td>Prunus serotina</td>\n",
       "      <td>Med</td>\n",
       "      <td>Acer saccharum</td>\n",
       "      <td>Non-Sterile</td>\n",
       "      <td>Heterospecific</td>\n",
       "      <td>AMF</td>\n",
       "      <td>AMF</td>\n",
       "      <td>2016</td>\n",
       "      <td>15</td>\n",
       "      <td>7</td>\n",
       "    </tr>\n",
       "    <tr>\n",
       "      <th>2154</th>\n",
       "      <td>A</td>\n",
       "      <td>Quercus rubra</td>\n",
       "      <td>Med</td>\n",
       "      <td>Prunus serotina</td>\n",
       "      <td>Non-Sterile</td>\n",
       "      <td>Heterospecific</td>\n",
       "      <td>EMF</td>\n",
       "      <td>AMF</td>\n",
       "      <td>2017</td>\n",
       "      <td>15</td>\n",
       "      <td>33</td>\n",
       "    </tr>\n",
       "    <tr>\n",
       "      <th>1766</th>\n",
       "      <td>B</td>\n",
       "      <td>Prunus serotina</td>\n",
       "      <td>Low</td>\n",
       "      <td>Acer rubrum</td>\n",
       "      <td>Non-Sterile</td>\n",
       "      <td>Heterospecific</td>\n",
       "      <td>AMF</td>\n",
       "      <td>AMF</td>\n",
       "      <td>2017</td>\n",
       "      <td>9</td>\n",
       "      <td>12</td>\n",
       "    </tr>\n",
       "    <tr>\n",
       "      <th>1122</th>\n",
       "      <td>A</td>\n",
       "      <td>Quercus rubra</td>\n",
       "      <td>Med</td>\n",
       "      <td>Quercus rubra</td>\n",
       "      <td>Non-Sterile</td>\n",
       "      <td>Conspecific</td>\n",
       "      <td>EMF</td>\n",
       "      <td>EMF</td>\n",
       "      <td>2017</td>\n",
       "      <td>15</td>\n",
       "      <td>7</td>\n",
       "    </tr>\n",
       "    <tr>\n",
       "      <th>1346</th>\n",
       "      <td>A</td>\n",
       "      <td>Quercus alba</td>\n",
       "      <td>High</td>\n",
       "      <td>Populus grandidentata</td>\n",
       "      <td>Non-Sterile</td>\n",
       "      <td>Heterospecific</td>\n",
       "      <td>EMF</td>\n",
       "      <td>EMF</td>\n",
       "      <td>2016</td>\n",
       "      <td>18</td>\n",
       "      <td>7</td>\n",
       "    </tr>\n",
       "  </tbody>\n",
       "</table>\n",
       "<p>2225 rows × 11 columns</p>\n",
       "</div>"
      ],
      "text/plain": [
       "     Subplot          Species Light_Cat                   Soil      Sterile  \\\n",
       "807        C     Quercus alba       Med                Sterile      Sterile   \n",
       "2192       C  Prunus serotina       Low            Acer rubrum  Non-Sterile   \n",
       "1074       B     Quercus alba       Low            Acer rubrum  Non-Sterile   \n",
       "841        B    Quercus rubra       Low  Populus grandidentata  Non-Sterile   \n",
       "2508       C     Quercus alba      High                Sterile      Sterile   \n",
       "...      ...              ...       ...                    ...          ...   \n",
       "1147       D  Prunus serotina       Med         Acer saccharum  Non-Sterile   \n",
       "2154       A    Quercus rubra       Med        Prunus serotina  Non-Sterile   \n",
       "1766       B  Prunus serotina       Low            Acer rubrum  Non-Sterile   \n",
       "1122       A    Quercus rubra       Med          Quercus rubra  Non-Sterile   \n",
       "1346       A     Quercus alba      High  Populus grandidentata  Non-Sterile   \n",
       "\n",
       "         Conspecific Myco SoilMyco  Core  Plot  Census  \n",
       "807       Sterilized  EMF  Sterile  2017     6      33  \n",
       "2192  Heterospecific  AMF      AMF  2017    10      13  \n",
       "1074  Heterospecific  EMF      AMF  2017    14       7  \n",
       "841   Heterospecific  EMF      EMF  2016    11       7  \n",
       "2508      Sterilized  EMF  Sterile  2017    17      33  \n",
       "...              ...  ...      ...   ...   ...     ...  \n",
       "1147  Heterospecific  AMF      AMF  2016    15       7  \n",
       "2154  Heterospecific  EMF      AMF  2017    15      33  \n",
       "1766  Heterospecific  AMF      AMF  2017     9      12  \n",
       "1122     Conspecific  EMF      EMF  2017    15       7  \n",
       "1346  Heterospecific  EMF      EMF  2016    18       7  \n",
       "\n",
       "[2225 rows x 11 columns]"
      ]
     },
     "execution_count": 24,
     "metadata": {},
     "output_type": "execute_result"
    }
   ],
   "source": [
    "tree_cat_attribs = tree_df.select_dtypes(include=[object])\n",
    "tree_cat_attribs['Core'] = tree_df['Core']\n",
    "tree_cat_attribs['Plot'] = tree_df['Plot']\n",
    "tree_cat_attribs['Census'] = tree_df['Census']\n",
    "tree_cat_attribs"
   ]
  },
  {
   "cell_type": "code",
   "execution_count": 25,
   "id": "639e25d3",
   "metadata": {},
   "outputs": [
    {
     "data": {
      "text/plain": [
       "['Subplot',\n",
       " 'Species',\n",
       " 'Light_Cat',\n",
       " 'Soil',\n",
       " 'Sterile',\n",
       " 'Conspecific',\n",
       " 'Myco',\n",
       " 'SoilMyco',\n",
       " 'Core',\n",
       " 'Plot',\n",
       " 'Census']"
      ]
     },
     "execution_count": 25,
     "metadata": {},
     "output_type": "execute_result"
    }
   ],
   "source": [
    "tree_cat_attribs_names = list(tree_cat_attribs.columns)\n",
    "tree_cat_attribs_names"
   ]
  },
  {
   "cell_type": "code",
   "execution_count": 26,
   "id": "90147ba1",
   "metadata": {},
   "outputs": [
    {
     "data": {
      "text/html": [
       "<style>#sk-container-id-2 {color: black;}#sk-container-id-2 pre{padding: 0;}#sk-container-id-2 div.sk-toggleable {background-color: white;}#sk-container-id-2 label.sk-toggleable__label {cursor: pointer;display: block;width: 100%;margin-bottom: 0;padding: 0.3em;box-sizing: border-box;text-align: center;}#sk-container-id-2 label.sk-toggleable__label-arrow:before {content: \"▸\";float: left;margin-right: 0.25em;color: #696969;}#sk-container-id-2 label.sk-toggleable__label-arrow:hover:before {color: black;}#sk-container-id-2 div.sk-estimator:hover label.sk-toggleable__label-arrow:before {color: black;}#sk-container-id-2 div.sk-toggleable__content {max-height: 0;max-width: 0;overflow: hidden;text-align: left;background-color: #f0f8ff;}#sk-container-id-2 div.sk-toggleable__content pre {margin: 0.2em;color: black;border-radius: 0.25em;background-color: #f0f8ff;}#sk-container-id-2 input.sk-toggleable__control:checked~div.sk-toggleable__content {max-height: 200px;max-width: 100%;overflow: auto;}#sk-container-id-2 input.sk-toggleable__control:checked~label.sk-toggleable__label-arrow:before {content: \"▾\";}#sk-container-id-2 div.sk-estimator input.sk-toggleable__control:checked~label.sk-toggleable__label {background-color: #d4ebff;}#sk-container-id-2 div.sk-label input.sk-toggleable__control:checked~label.sk-toggleable__label {background-color: #d4ebff;}#sk-container-id-2 input.sk-hidden--visually {border: 0;clip: rect(1px 1px 1px 1px);clip: rect(1px, 1px, 1px, 1px);height: 1px;margin: -1px;overflow: hidden;padding: 0;position: absolute;width: 1px;}#sk-container-id-2 div.sk-estimator {font-family: monospace;background-color: #f0f8ff;border: 1px dotted black;border-radius: 0.25em;box-sizing: border-box;margin-bottom: 0.5em;}#sk-container-id-2 div.sk-estimator:hover {background-color: #d4ebff;}#sk-container-id-2 div.sk-parallel-item::after {content: \"\";width: 100%;border-bottom: 1px solid gray;flex-grow: 1;}#sk-container-id-2 div.sk-label:hover label.sk-toggleable__label {background-color: #d4ebff;}#sk-container-id-2 div.sk-serial::before {content: \"\";position: absolute;border-left: 1px solid gray;box-sizing: border-box;top: 0;bottom: 0;left: 50%;z-index: 0;}#sk-container-id-2 div.sk-serial {display: flex;flex-direction: column;align-items: center;background-color: white;padding-right: 0.2em;padding-left: 0.2em;position: relative;}#sk-container-id-2 div.sk-item {position: relative;z-index: 1;}#sk-container-id-2 div.sk-parallel {display: flex;align-items: stretch;justify-content: center;background-color: white;position: relative;}#sk-container-id-2 div.sk-item::before, #sk-container-id-2 div.sk-parallel-item::before {content: \"\";position: absolute;border-left: 1px solid gray;box-sizing: border-box;top: 0;bottom: 0;left: 50%;z-index: -1;}#sk-container-id-2 div.sk-parallel-item {display: flex;flex-direction: column;z-index: 1;position: relative;background-color: white;}#sk-container-id-2 div.sk-parallel-item:first-child::after {align-self: flex-end;width: 50%;}#sk-container-id-2 div.sk-parallel-item:last-child::after {align-self: flex-start;width: 50%;}#sk-container-id-2 div.sk-parallel-item:only-child::after {width: 0;}#sk-container-id-2 div.sk-dashed-wrapped {border: 1px dashed gray;margin: 0 0.4em 0.5em 0.4em;box-sizing: border-box;padding-bottom: 0.4em;background-color: white;}#sk-container-id-2 div.sk-label label {font-family: monospace;font-weight: bold;display: inline-block;line-height: 1.2em;}#sk-container-id-2 div.sk-label-container {text-align: center;}#sk-container-id-2 div.sk-container {/* jupyter's `normalize.less` sets `[hidden] { display: none; }` but bootstrap.min.css set `[hidden] { display: none !important; }` so we also need the `!important` here to be able to override the default hidden behavior on the sphinx rendered scikit-learn.org. See: https://github.com/scikit-learn/scikit-learn/issues/21755 */display: inline-block !important;position: relative;}#sk-container-id-2 div.sk-text-repr-fallback {display: none;}</style><div id=\"sk-container-id-2\" class=\"sk-top-container\"><div class=\"sk-text-repr-fallback\"><pre>Pipeline(steps=[(&#x27;simpleimputer&#x27;, SimpleImputer(strategy=&#x27;most_frequent&#x27;)),\n",
       "                (&#x27;onehotencoder&#x27;, OneHotEncoder(handle_unknown=&#x27;ignore&#x27;))])</pre><b>In a Jupyter environment, please rerun this cell to show the HTML representation or trust the notebook. <br />On GitHub, the HTML representation is unable to render, please try loading this page with nbviewer.org.</b></div><div class=\"sk-container\" hidden><div class=\"sk-item sk-dashed-wrapped\"><div class=\"sk-label-container\"><div class=\"sk-label sk-toggleable\"><input class=\"sk-toggleable__control sk-hidden--visually\" id=\"sk-estimator-id-4\" type=\"checkbox\" ><label for=\"sk-estimator-id-4\" class=\"sk-toggleable__label sk-toggleable__label-arrow\">Pipeline</label><div class=\"sk-toggleable__content\"><pre>Pipeline(steps=[(&#x27;simpleimputer&#x27;, SimpleImputer(strategy=&#x27;most_frequent&#x27;)),\n",
       "                (&#x27;onehotencoder&#x27;, OneHotEncoder(handle_unknown=&#x27;ignore&#x27;))])</pre></div></div></div><div class=\"sk-serial\"><div class=\"sk-item\"><div class=\"sk-estimator sk-toggleable\"><input class=\"sk-toggleable__control sk-hidden--visually\" id=\"sk-estimator-id-5\" type=\"checkbox\" ><label for=\"sk-estimator-id-5\" class=\"sk-toggleable__label sk-toggleable__label-arrow\">SimpleImputer</label><div class=\"sk-toggleable__content\"><pre>SimpleImputer(strategy=&#x27;most_frequent&#x27;)</pre></div></div></div><div class=\"sk-item\"><div class=\"sk-estimator sk-toggleable\"><input class=\"sk-toggleable__control sk-hidden--visually\" id=\"sk-estimator-id-6\" type=\"checkbox\" ><label for=\"sk-estimator-id-6\" class=\"sk-toggleable__label sk-toggleable__label-arrow\">OneHotEncoder</label><div class=\"sk-toggleable__content\"><pre>OneHotEncoder(handle_unknown=&#x27;ignore&#x27;)</pre></div></div></div></div></div></div></div>"
      ],
      "text/plain": [
       "Pipeline(steps=[('simpleimputer', SimpleImputer(strategy='most_frequent')),\n",
       "                ('onehotencoder', OneHotEncoder(handle_unknown='ignore'))])"
      ]
     },
     "execution_count": 26,
     "metadata": {},
     "output_type": "execute_result"
    }
   ],
   "source": [
    "cat_pipeline = make_pipeline(SimpleImputer(strategy='most_frequent'),\n",
    "                             OneHotEncoder(handle_unknown='ignore'))\n",
    "cat_pipeline"
   ]
  },
  {
   "cell_type": "code",
   "execution_count": 27,
   "id": "c85e49b3",
   "metadata": {},
   "outputs": [],
   "source": [
    "preprocessing = make_column_transformer((num_pipeline, tree_num_attribs_names),\n",
    "                                        (cat_pipeline, tree_cat_attribs_names))"
   ]
  },
  {
   "cell_type": "code",
   "execution_count": 28,
   "id": "05e9d1c5",
   "metadata": {},
   "outputs": [
    {
     "data": {
      "text/plain": [
       "(2225, 78)"
      ]
     },
     "execution_count": 28,
     "metadata": {},
     "output_type": "execute_result"
    }
   ],
   "source": [
    "tree_prepared = preprocessing.fit_transform(tree_df)\n",
    "tree_prepared.shape"
   ]
  },
  {
   "cell_type": "code",
   "execution_count": 29,
   "id": "1268d7a6",
   "metadata": {},
   "outputs": [
    {
     "data": {
      "text/plain": [
       "array(['pipeline-1__Light_ISF', 'pipeline-1__AMF', 'pipeline-1__EMF',\n",
       "       'pipeline-1__Phenolics', 'pipeline-1__Lignin', 'pipeline-1__NSC',\n",
       "       'pipeline-1__Time', 'pipeline-2__Subplot_A',\n",
       "       'pipeline-2__Subplot_B', 'pipeline-2__Subplot_C',\n",
       "       'pipeline-2__Subplot_D', 'pipeline-2__Subplot_E',\n",
       "       'pipeline-2__Species_Acer saccharum',\n",
       "       'pipeline-2__Species_Prunus serotina',\n",
       "       'pipeline-2__Species_Quercus alba',\n",
       "       'pipeline-2__Species_Quercus rubra', 'pipeline-2__Light_Cat_High',\n",
       "       'pipeline-2__Light_Cat_Low', 'pipeline-2__Light_Cat_Med',\n",
       "       'pipeline-2__Soil_Acer rubrum', 'pipeline-2__Soil_Acer saccharum',\n",
       "       'pipeline-2__Soil_Populus grandidentata',\n",
       "       'pipeline-2__Soil_Prunus serotina',\n",
       "       'pipeline-2__Soil_Quercus alba', 'pipeline-2__Soil_Quercus rubra',\n",
       "       'pipeline-2__Soil_Sterile', 'pipeline-2__Sterile_Non-Sterile',\n",
       "       'pipeline-2__Sterile_Sterile',\n",
       "       'pipeline-2__Conspecific_Conspecific',\n",
       "       'pipeline-2__Conspecific_Heterospecific',\n",
       "       'pipeline-2__Conspecific_Sterilized', 'pipeline-2__Myco_AMF',\n",
       "       'pipeline-2__Myco_EMF', 'pipeline-2__SoilMyco_AMF',\n",
       "       'pipeline-2__SoilMyco_EMF', 'pipeline-2__SoilMyco_Sterile',\n",
       "       'pipeline-2__Core_2016', 'pipeline-2__Core_2017',\n",
       "       'pipeline-2__Plot_1', 'pipeline-2__Plot_2', 'pipeline-2__Plot_3',\n",
       "       'pipeline-2__Plot_4', 'pipeline-2__Plot_5', 'pipeline-2__Plot_6',\n",
       "       'pipeline-2__Plot_7', 'pipeline-2__Plot_8', 'pipeline-2__Plot_9',\n",
       "       'pipeline-2__Plot_10', 'pipeline-2__Plot_11',\n",
       "       'pipeline-2__Plot_12', 'pipeline-2__Plot_13',\n",
       "       'pipeline-2__Plot_14', 'pipeline-2__Plot_15',\n",
       "       'pipeline-2__Plot_16', 'pipeline-2__Plot_17',\n",
       "       'pipeline-2__Plot_18', 'pipeline-2__Census_4',\n",
       "       'pipeline-2__Census_7', 'pipeline-2__Census_8',\n",
       "       'pipeline-2__Census_9', 'pipeline-2__Census_10',\n",
       "       'pipeline-2__Census_11', 'pipeline-2__Census_12',\n",
       "       'pipeline-2__Census_13', 'pipeline-2__Census_14',\n",
       "       'pipeline-2__Census_15', 'pipeline-2__Census_16',\n",
       "       'pipeline-2__Census_17', 'pipeline-2__Census_18',\n",
       "       'pipeline-2__Census_19', 'pipeline-2__Census_20',\n",
       "       'pipeline-2__Census_21', 'pipeline-2__Census_22',\n",
       "       'pipeline-2__Census_23', 'pipeline-2__Census_24',\n",
       "       'pipeline-2__Census_25', 'pipeline-2__Census_27',\n",
       "       'pipeline-2__Census_33'], dtype=object)"
      ]
     },
     "execution_count": 29,
     "metadata": {},
     "output_type": "execute_result"
    }
   ],
   "source": [
    "preprocessing.get_feature_names_out()"
   ]
  },
  {
   "cell_type": "markdown",
   "id": "d5ae5ecb",
   "metadata": {},
   "source": [
    "Liczba kolumn w przekształconej macierzy musi być równa sumie liczby kolumn numerycznych i liczby uniklanych wartości we wszystkich kolumnach kategorycznych"
   ]
  },
  {
   "cell_type": "code",
   "execution_count": 30,
   "id": "8315a89d",
   "metadata": {},
   "outputs": [
    {
     "data": {
      "text/plain": [
       "True"
      ]
     },
     "execution_count": 30,
     "metadata": {},
     "output_type": "execute_result"
    }
   ],
   "source": [
    "(tree_cat_attribs.nunique().sum() + tree_num_attribs.columns.size) == tree_prepared.shape[1] "
   ]
  },
  {
   "cell_type": "markdown",
   "id": "578b9d31",
   "metadata": {},
   "source": [
    "### Wybór i trenowanie modelu"
   ]
  },
  {
   "cell_type": "code",
   "execution_count": 31,
   "id": "c32ea990",
   "metadata": {},
   "outputs": [],
   "source": [
    "from sklearn.svm import LinearSVC\n",
    "from sklearn.model_selection import cross_val_score"
   ]
  },
  {
   "cell_type": "code",
   "execution_count": 32,
   "id": "2293e21f",
   "metadata": {},
   "outputs": [
    {
     "data": {
      "text/html": [
       "<style>#sk-container-id-3 {color: black;}#sk-container-id-3 pre{padding: 0;}#sk-container-id-3 div.sk-toggleable {background-color: white;}#sk-container-id-3 label.sk-toggleable__label {cursor: pointer;display: block;width: 100%;margin-bottom: 0;padding: 0.3em;box-sizing: border-box;text-align: center;}#sk-container-id-3 label.sk-toggleable__label-arrow:before {content: \"▸\";float: left;margin-right: 0.25em;color: #696969;}#sk-container-id-3 label.sk-toggleable__label-arrow:hover:before {color: black;}#sk-container-id-3 div.sk-estimator:hover label.sk-toggleable__label-arrow:before {color: black;}#sk-container-id-3 div.sk-toggleable__content {max-height: 0;max-width: 0;overflow: hidden;text-align: left;background-color: #f0f8ff;}#sk-container-id-3 div.sk-toggleable__content pre {margin: 0.2em;color: black;border-radius: 0.25em;background-color: #f0f8ff;}#sk-container-id-3 input.sk-toggleable__control:checked~div.sk-toggleable__content {max-height: 200px;max-width: 100%;overflow: auto;}#sk-container-id-3 input.sk-toggleable__control:checked~label.sk-toggleable__label-arrow:before {content: \"▾\";}#sk-container-id-3 div.sk-estimator input.sk-toggleable__control:checked~label.sk-toggleable__label {background-color: #d4ebff;}#sk-container-id-3 div.sk-label input.sk-toggleable__control:checked~label.sk-toggleable__label {background-color: #d4ebff;}#sk-container-id-3 input.sk-hidden--visually {border: 0;clip: rect(1px 1px 1px 1px);clip: rect(1px, 1px, 1px, 1px);height: 1px;margin: -1px;overflow: hidden;padding: 0;position: absolute;width: 1px;}#sk-container-id-3 div.sk-estimator {font-family: monospace;background-color: #f0f8ff;border: 1px dotted black;border-radius: 0.25em;box-sizing: border-box;margin-bottom: 0.5em;}#sk-container-id-3 div.sk-estimator:hover {background-color: #d4ebff;}#sk-container-id-3 div.sk-parallel-item::after {content: \"\";width: 100%;border-bottom: 1px solid gray;flex-grow: 1;}#sk-container-id-3 div.sk-label:hover label.sk-toggleable__label {background-color: #d4ebff;}#sk-container-id-3 div.sk-serial::before {content: \"\";position: absolute;border-left: 1px solid gray;box-sizing: border-box;top: 0;bottom: 0;left: 50%;z-index: 0;}#sk-container-id-3 div.sk-serial {display: flex;flex-direction: column;align-items: center;background-color: white;padding-right: 0.2em;padding-left: 0.2em;position: relative;}#sk-container-id-3 div.sk-item {position: relative;z-index: 1;}#sk-container-id-3 div.sk-parallel {display: flex;align-items: stretch;justify-content: center;background-color: white;position: relative;}#sk-container-id-3 div.sk-item::before, #sk-container-id-3 div.sk-parallel-item::before {content: \"\";position: absolute;border-left: 1px solid gray;box-sizing: border-box;top: 0;bottom: 0;left: 50%;z-index: -1;}#sk-container-id-3 div.sk-parallel-item {display: flex;flex-direction: column;z-index: 1;position: relative;background-color: white;}#sk-container-id-3 div.sk-parallel-item:first-child::after {align-self: flex-end;width: 50%;}#sk-container-id-3 div.sk-parallel-item:last-child::after {align-self: flex-start;width: 50%;}#sk-container-id-3 div.sk-parallel-item:only-child::after {width: 0;}#sk-container-id-3 div.sk-dashed-wrapped {border: 1px dashed gray;margin: 0 0.4em 0.5em 0.4em;box-sizing: border-box;padding-bottom: 0.4em;background-color: white;}#sk-container-id-3 div.sk-label label {font-family: monospace;font-weight: bold;display: inline-block;line-height: 1.2em;}#sk-container-id-3 div.sk-label-container {text-align: center;}#sk-container-id-3 div.sk-container {/* jupyter's `normalize.less` sets `[hidden] { display: none; }` but bootstrap.min.css set `[hidden] { display: none !important; }` so we also need the `!important` here to be able to override the default hidden behavior on the sphinx rendered scikit-learn.org. See: https://github.com/scikit-learn/scikit-learn/issues/21755 */display: inline-block !important;position: relative;}#sk-container-id-3 div.sk-text-repr-fallback {display: none;}</style><div id=\"sk-container-id-3\" class=\"sk-top-container\"><div class=\"sk-text-repr-fallback\"><pre>Pipeline(steps=[(&#x27;columntransformer&#x27;,\n",
       "                 ColumnTransformer(transformers=[(&#x27;pipeline-1&#x27;,\n",
       "                                                  Pipeline(steps=[(&#x27;simpleimputer&#x27;,\n",
       "                                                                   SimpleImputer(strategy=&#x27;median&#x27;)),\n",
       "                                                                  (&#x27;standardscaler&#x27;,\n",
       "                                                                   StandardScaler())]),\n",
       "                                                  [&#x27;Light_ISF&#x27;, &#x27;AMF&#x27;, &#x27;EMF&#x27;,\n",
       "                                                   &#x27;Phenolics&#x27;, &#x27;Lignin&#x27;, &#x27;NSC&#x27;,\n",
       "                                                   &#x27;Time&#x27;]),\n",
       "                                                 (&#x27;pipeline-2&#x27;,\n",
       "                                                  Pipeline(steps=[(&#x27;simpleimputer&#x27;,\n",
       "                                                                   SimpleImputer(strategy=&#x27;most_frequent&#x27;)),\n",
       "                                                                  (&#x27;onehotencoder&#x27;,\n",
       "                                                                   OneHotEncoder(handle_unknown=&#x27;ignore&#x27;))]),\n",
       "                                                  [&#x27;Subplot&#x27;, &#x27;Species&#x27;,\n",
       "                                                   &#x27;Light_Cat&#x27;, &#x27;Soil&#x27;,\n",
       "                                                   &#x27;Sterile&#x27;, &#x27;Conspecific&#x27;,\n",
       "                                                   &#x27;Myco&#x27;, &#x27;SoilMyco&#x27;, &#x27;Core&#x27;,\n",
       "                                                   &#x27;Plot&#x27;, &#x27;Census&#x27;])])),\n",
       "                (&#x27;linearsvc&#x27;, LinearSVC(dual=&#x27;auto&#x27;))])</pre><b>In a Jupyter environment, please rerun this cell to show the HTML representation or trust the notebook. <br />On GitHub, the HTML representation is unable to render, please try loading this page with nbviewer.org.</b></div><div class=\"sk-container\" hidden><div class=\"sk-item sk-dashed-wrapped\"><div class=\"sk-label-container\"><div class=\"sk-label sk-toggleable\"><input class=\"sk-toggleable__control sk-hidden--visually\" id=\"sk-estimator-id-7\" type=\"checkbox\" ><label for=\"sk-estimator-id-7\" class=\"sk-toggleable__label sk-toggleable__label-arrow\">Pipeline</label><div class=\"sk-toggleable__content\"><pre>Pipeline(steps=[(&#x27;columntransformer&#x27;,\n",
       "                 ColumnTransformer(transformers=[(&#x27;pipeline-1&#x27;,\n",
       "                                                  Pipeline(steps=[(&#x27;simpleimputer&#x27;,\n",
       "                                                                   SimpleImputer(strategy=&#x27;median&#x27;)),\n",
       "                                                                  (&#x27;standardscaler&#x27;,\n",
       "                                                                   StandardScaler())]),\n",
       "                                                  [&#x27;Light_ISF&#x27;, &#x27;AMF&#x27;, &#x27;EMF&#x27;,\n",
       "                                                   &#x27;Phenolics&#x27;, &#x27;Lignin&#x27;, &#x27;NSC&#x27;,\n",
       "                                                   &#x27;Time&#x27;]),\n",
       "                                                 (&#x27;pipeline-2&#x27;,\n",
       "                                                  Pipeline(steps=[(&#x27;simpleimputer&#x27;,\n",
       "                                                                   SimpleImputer(strategy=&#x27;most_frequent&#x27;)),\n",
       "                                                                  (&#x27;onehotencoder&#x27;,\n",
       "                                                                   OneHotEncoder(handle_unknown=&#x27;ignore&#x27;))]),\n",
       "                                                  [&#x27;Subplot&#x27;, &#x27;Species&#x27;,\n",
       "                                                   &#x27;Light_Cat&#x27;, &#x27;Soil&#x27;,\n",
       "                                                   &#x27;Sterile&#x27;, &#x27;Conspecific&#x27;,\n",
       "                                                   &#x27;Myco&#x27;, &#x27;SoilMyco&#x27;, &#x27;Core&#x27;,\n",
       "                                                   &#x27;Plot&#x27;, &#x27;Census&#x27;])])),\n",
       "                (&#x27;linearsvc&#x27;, LinearSVC(dual=&#x27;auto&#x27;))])</pre></div></div></div><div class=\"sk-serial\"><div class=\"sk-item sk-dashed-wrapped\"><div class=\"sk-label-container\"><div class=\"sk-label sk-toggleable\"><input class=\"sk-toggleable__control sk-hidden--visually\" id=\"sk-estimator-id-8\" type=\"checkbox\" ><label for=\"sk-estimator-id-8\" class=\"sk-toggleable__label sk-toggleable__label-arrow\">columntransformer: ColumnTransformer</label><div class=\"sk-toggleable__content\"><pre>ColumnTransformer(transformers=[(&#x27;pipeline-1&#x27;,\n",
       "                                 Pipeline(steps=[(&#x27;simpleimputer&#x27;,\n",
       "                                                  SimpleImputer(strategy=&#x27;median&#x27;)),\n",
       "                                                 (&#x27;standardscaler&#x27;,\n",
       "                                                  StandardScaler())]),\n",
       "                                 [&#x27;Light_ISF&#x27;, &#x27;AMF&#x27;, &#x27;EMF&#x27;, &#x27;Phenolics&#x27;,\n",
       "                                  &#x27;Lignin&#x27;, &#x27;NSC&#x27;, &#x27;Time&#x27;]),\n",
       "                                (&#x27;pipeline-2&#x27;,\n",
       "                                 Pipeline(steps=[(&#x27;simpleimputer&#x27;,\n",
       "                                                  SimpleImputer(strategy=&#x27;most_frequent&#x27;)),\n",
       "                                                 (&#x27;onehotencoder&#x27;,\n",
       "                                                  OneHotEncoder(handle_unknown=&#x27;ignore&#x27;))]),\n",
       "                                 [&#x27;Subplot&#x27;, &#x27;Species&#x27;, &#x27;Light_Cat&#x27;, &#x27;Soil&#x27;,\n",
       "                                  &#x27;Sterile&#x27;, &#x27;Conspecific&#x27;, &#x27;Myco&#x27;, &#x27;SoilMyco&#x27;,\n",
       "                                  &#x27;Core&#x27;, &#x27;Plot&#x27;, &#x27;Census&#x27;])])</pre></div></div></div><div class=\"sk-parallel\"><div class=\"sk-parallel-item\"><div class=\"sk-item\"><div class=\"sk-label-container\"><div class=\"sk-label sk-toggleable\"><input class=\"sk-toggleable__control sk-hidden--visually\" id=\"sk-estimator-id-9\" type=\"checkbox\" ><label for=\"sk-estimator-id-9\" class=\"sk-toggleable__label sk-toggleable__label-arrow\">pipeline-1</label><div class=\"sk-toggleable__content\"><pre>[&#x27;Light_ISF&#x27;, &#x27;AMF&#x27;, &#x27;EMF&#x27;, &#x27;Phenolics&#x27;, &#x27;Lignin&#x27;, &#x27;NSC&#x27;, &#x27;Time&#x27;]</pre></div></div></div><div class=\"sk-serial\"><div class=\"sk-item\"><div class=\"sk-serial\"><div class=\"sk-item\"><div class=\"sk-estimator sk-toggleable\"><input class=\"sk-toggleable__control sk-hidden--visually\" id=\"sk-estimator-id-10\" type=\"checkbox\" ><label for=\"sk-estimator-id-10\" class=\"sk-toggleable__label sk-toggleable__label-arrow\">SimpleImputer</label><div class=\"sk-toggleable__content\"><pre>SimpleImputer(strategy=&#x27;median&#x27;)</pre></div></div></div><div class=\"sk-item\"><div class=\"sk-estimator sk-toggleable\"><input class=\"sk-toggleable__control sk-hidden--visually\" id=\"sk-estimator-id-11\" type=\"checkbox\" ><label for=\"sk-estimator-id-11\" class=\"sk-toggleable__label sk-toggleable__label-arrow\">StandardScaler</label><div class=\"sk-toggleable__content\"><pre>StandardScaler()</pre></div></div></div></div></div></div></div></div><div class=\"sk-parallel-item\"><div class=\"sk-item\"><div class=\"sk-label-container\"><div class=\"sk-label sk-toggleable\"><input class=\"sk-toggleable__control sk-hidden--visually\" id=\"sk-estimator-id-12\" type=\"checkbox\" ><label for=\"sk-estimator-id-12\" class=\"sk-toggleable__label sk-toggleable__label-arrow\">pipeline-2</label><div class=\"sk-toggleable__content\"><pre>[&#x27;Subplot&#x27;, &#x27;Species&#x27;, &#x27;Light_Cat&#x27;, &#x27;Soil&#x27;, &#x27;Sterile&#x27;, &#x27;Conspecific&#x27;, &#x27;Myco&#x27;, &#x27;SoilMyco&#x27;, &#x27;Core&#x27;, &#x27;Plot&#x27;, &#x27;Census&#x27;]</pre></div></div></div><div class=\"sk-serial\"><div class=\"sk-item\"><div class=\"sk-serial\"><div class=\"sk-item\"><div class=\"sk-estimator sk-toggleable\"><input class=\"sk-toggleable__control sk-hidden--visually\" id=\"sk-estimator-id-13\" type=\"checkbox\" ><label for=\"sk-estimator-id-13\" class=\"sk-toggleable__label sk-toggleable__label-arrow\">SimpleImputer</label><div class=\"sk-toggleable__content\"><pre>SimpleImputer(strategy=&#x27;most_frequent&#x27;)</pre></div></div></div><div class=\"sk-item\"><div class=\"sk-estimator sk-toggleable\"><input class=\"sk-toggleable__control sk-hidden--visually\" id=\"sk-estimator-id-14\" type=\"checkbox\" ><label for=\"sk-estimator-id-14\" class=\"sk-toggleable__label sk-toggleable__label-arrow\">OneHotEncoder</label><div class=\"sk-toggleable__content\"><pre>OneHotEncoder(handle_unknown=&#x27;ignore&#x27;)</pre></div></div></div></div></div></div></div></div></div></div><div class=\"sk-item\"><div class=\"sk-estimator sk-toggleable\"><input class=\"sk-toggleable__control sk-hidden--visually\" id=\"sk-estimator-id-15\" type=\"checkbox\" ><label for=\"sk-estimator-id-15\" class=\"sk-toggleable__label sk-toggleable__label-arrow\">LinearSVC</label><div class=\"sk-toggleable__content\"><pre>LinearSVC(dual=&#x27;auto&#x27;)</pre></div></div></div></div></div></div></div>"
      ],
      "text/plain": [
       "Pipeline(steps=[('columntransformer',\n",
       "                 ColumnTransformer(transformers=[('pipeline-1',\n",
       "                                                  Pipeline(steps=[('simpleimputer',\n",
       "                                                                   SimpleImputer(strategy='median')),\n",
       "                                                                  ('standardscaler',\n",
       "                                                                   StandardScaler())]),\n",
       "                                                  ['Light_ISF', 'AMF', 'EMF',\n",
       "                                                   'Phenolics', 'Lignin', 'NSC',\n",
       "                                                   'Time']),\n",
       "                                                 ('pipeline-2',\n",
       "                                                  Pipeline(steps=[('simpleimputer',\n",
       "                                                                   SimpleImputer(strategy='most_frequent')),\n",
       "                                                                  ('onehotencoder',\n",
       "                                                                   OneHotEncoder(handle_unknown='ignore'))]),\n",
       "                                                  ['Subplot', 'Species',\n",
       "                                                   'Light_Cat', 'Soil',\n",
       "                                                   'Sterile', 'Conspecific',\n",
       "                                                   'Myco', 'SoilMyco', 'Core',\n",
       "                                                   'Plot', 'Census'])])),\n",
       "                ('linearsvc', LinearSVC(dual='auto'))])"
      ]
     },
     "execution_count": 32,
     "metadata": {},
     "output_type": "execute_result"
    }
   ],
   "source": [
    "clf = make_pipeline(preprocessing, \n",
    "                    LinearSVC(dual='auto'))\n",
    "clf.fit(tree_df, tree_labels)"
   ]
  },
  {
   "cell_type": "markdown",
   "id": "dd8b718f",
   "metadata": {},
   "source": [
    "Procentowa skuteczność dla danych na których maszyna się uczyła"
   ]
  },
  {
   "cell_type": "code",
   "execution_count": 33,
   "id": "8a5506af",
   "metadata": {},
   "outputs": [
    {
     "data": {
      "text/plain": [
       "0.9564044943820225"
      ]
     },
     "execution_count": 33,
     "metadata": {},
     "output_type": "execute_result"
    }
   ],
   "source": [
    "clf.score(tree_df, tree_labels)"
   ]
  },
  {
   "cell_type": "markdown",
   "id": "e97bb5f4",
   "metadata": {},
   "source": [
    "Dokładniejsza ocena za pomocą sprawdzianu krzyżowego (cross_val_score)"
   ]
  },
  {
   "cell_type": "code",
   "execution_count": 34,
   "id": "3cb8facd",
   "metadata": {},
   "outputs": [
    {
     "data": {
      "text/plain": [
       "0.9505554882236498"
      ]
     },
     "execution_count": 34,
     "metadata": {},
     "output_type": "execute_result"
    }
   ],
   "source": [
    "scores = cross_val_score(clf, tree_df, tree_labels, cv=10)\n",
    "scores.mean()"
   ]
  },
  {
   "cell_type": "markdown",
   "id": "53f98b12",
   "metadata": {},
   "source": [
    "### W tym miejscu można również poszukać najlepszej kombinacji parametrów klasyfikatora LinearSVC"
   ]
  },
  {
   "cell_type": "code",
   "execution_count": null,
   "id": "135305c0",
   "metadata": {},
   "outputs": [],
   "source": []
  },
  {
   "cell_type": "code",
   "execution_count": null,
   "id": "859e90be",
   "metadata": {},
   "outputs": [],
   "source": []
  },
  {
   "cell_type": "markdown",
   "id": "11937e36",
   "metadata": {},
   "source": [
    "### Ocena na zbiorze testowym"
   ]
  },
  {
   "cell_type": "markdown",
   "id": "7d1b9bb1",
   "metadata": {},
   "source": [
    "Najpierw należy dokonać tych samych operacji co na zbiorze uczącym, czyli 2 napisanych wcześniej funkcji:"
   ]
  },
  {
   "cell_type": "code",
   "execution_count": 35,
   "id": "3be31eb3",
   "metadata": {},
   "outputs": [],
   "source": [
    "test_set = drop_rows_without_label(test_set)\n",
    "test_set = drop_useless_cols(test_set)"
   ]
  },
  {
   "cell_type": "markdown",
   "id": "b181d4c9",
   "metadata": {},
   "source": [
    "Teraz dzielimy zbiór testowy na atrybuty i etykietę:"
   ]
  },
  {
   "cell_type": "code",
   "execution_count": 36,
   "id": "7163449b",
   "metadata": {},
   "outputs": [],
   "source": [
    "X_test = test_set.drop(['Event'], axis=1)\n",
    "y_test = test_set['Event'].copy()"
   ]
  },
  {
   "cell_type": "markdown",
   "id": "202d5f1e",
   "metadata": {},
   "source": [
    "I w końcu oceniamy model:"
   ]
  },
  {
   "cell_type": "code",
   "execution_count": 41,
   "id": "b5053674",
   "metadata": {},
   "outputs": [],
   "source": [
    "y_pred = clf.predict(X_test)"
   ]
  },
  {
   "cell_type": "code",
   "execution_count": 38,
   "id": "af59dbbc",
   "metadata": {},
   "outputs": [],
   "source": [
    "from sklearn.metrics import precision_score, recall_score, f1_score"
   ]
  },
  {
   "cell_type": "code",
   "execution_count": 42,
   "id": "e571c2c7",
   "metadata": {},
   "outputs": [
    {
     "data": {
      "text/plain": [
       "0.9640933572710951"
      ]
     },
     "execution_count": 42,
     "metadata": {},
     "output_type": "execute_result"
    }
   ],
   "source": [
    "clf.score(X_test, y_test)"
   ]
  },
  {
   "cell_type": "code",
   "execution_count": 43,
   "id": "28a675c2",
   "metadata": {},
   "outputs": [
    {
     "data": {
      "text/plain": [
       "0.9657320872274143"
      ]
     },
     "execution_count": 43,
     "metadata": {},
     "output_type": "execute_result"
    }
   ],
   "source": [
    "precision_score(y_test, y_pred)"
   ]
  },
  {
   "cell_type": "code",
   "execution_count": 44,
   "id": "bd809caa",
   "metadata": {},
   "outputs": [
    {
     "data": {
      "text/plain": [
       "0.9717868338557993"
      ]
     },
     "execution_count": 44,
     "metadata": {},
     "output_type": "execute_result"
    }
   ],
   "source": [
    "recall_score(y_test, y_pred)"
   ]
  },
  {
   "cell_type": "code",
   "execution_count": 45,
   "id": "312b0b32",
   "metadata": {},
   "outputs": [
    {
     "data": {
      "text/plain": [
       "0.96875"
      ]
     },
     "execution_count": 45,
     "metadata": {},
     "output_type": "execute_result"
    }
   ],
   "source": [
    "f1_score(y_test, y_pred)"
   ]
  }
 ],
 "metadata": {
  "kernelspec": {
   "display_name": "Python 3 (ipykernel)",
   "language": "python",
   "name": "python3"
  },
  "language_info": {
   "codemirror_mode": {
    "name": "ipython",
    "version": 3
   },
   "file_extension": ".py",
   "mimetype": "text/x-python",
   "name": "python",
   "nbconvert_exporter": "python",
   "pygments_lexer": "ipython3",
   "version": "3.10.13"
  }
 },
 "nbformat": 4,
 "nbformat_minor": 5
}
